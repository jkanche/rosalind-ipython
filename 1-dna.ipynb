{
 "cells": [
  {
   "cell_type": "code",
   "execution_count": 2,
   "metadata": {},
   "outputs": [
    {
     "name": "stdout",
     "output_type": "stream",
     "text": [
      "20\n",
      "12\n",
      "17\n",
      "21\n"
     ]
    }
   ],
   "source": [
    "# Sample Dataset\n",
    "\n",
    "dna = \"AGCTTTTCATTCTGACTGCAACGGGCAATATGTCTCTGTGTGGATTAAAAAAAGAGTGTCTGATAGCAGC\"\n",
    "\n",
    "def count_bases(dna):\n",
    "    for base in [\"A\", \"C\", \"G\", \"T\"]:\n",
    "        print(dna.count(base))\n",
    "        \n",
    "count_bases(dna)\n",
    "    "
   ]
  },
  {
   "cell_type": "code",
   "execution_count": 3,
   "metadata": {},
   "outputs": [
    {
     "name": "stdout",
     "output_type": "stream",
     "text": [
      "226\n",
      "227\n",
      "250\n",
      "212\n"
     ]
    }
   ],
   "source": [
    "# Downloaded Dataset\n",
    "\n",
    "file = open(\"data/rosalind_dna.txt\", \"r\") \n",
    "for line in file: \n",
    "    count_bases(line)"
   ]
  }
 ],
 "metadata": {
  "kernelspec": {
   "display_name": "Python 3",
   "language": "python",
   "name": "python3"
  },
  "language_info": {
   "codemirror_mode": {
    "name": "ipython",
    "version": 3
   },
   "file_extension": ".py",
   "mimetype": "text/x-python",
   "name": "python",
   "nbconvert_exporter": "python",
   "pygments_lexer": "ipython3",
   "version": "3.6.4"
  }
 },
 "nbformat": 4,
 "nbformat_minor": 2
}
