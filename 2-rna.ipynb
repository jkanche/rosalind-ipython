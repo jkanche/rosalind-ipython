{
 "cells": [
  {
   "cell_type": "code",
   "execution_count": 1,
   "metadata": {},
   "outputs": [
    {
     "data": {
      "text/plain": [
       "'GAUGGAACUUGACUACGUAAAUU'"
      ]
     },
     "execution_count": 1,
     "metadata": {},
     "output_type": "execute_result"
    }
   ],
   "source": [
    "# Sample Dataset\n",
    "\n",
    "sample = \"GATGGAACTTGACTACGTAAATT\"\n",
    "\n",
    "def transcribe_dna(dna):\n",
    "    return dna.replace(\"T\", \"U\")\n",
    "\n",
    "\n",
    "transcribe_dna(sample)"
   ]
  },
  {
   "cell_type": "code",
   "execution_count": 2,
   "metadata": {},
   "outputs": [
    {
     "name": "stdout",
     "output_type": "stream",
     "text": [
      "UCGGACGCCUAUUUUUUGCACAGUAAUCAUAUCCACGACCGCCCCGAGAGGCCAGCCUUUUGAUAUUACUGUGCGCUGUGGGGUGGGACUGCUCCGUCUAGGUACACUUAACUGCAUAAGAGGUAUACAUUUUACCCUCGAUAGCCUCCUACUACUGGUAUGGUGGGACUAGGAAUCCAAUACUCGACGCGAUGACAAGGGAUUUUGAAGAGACGGCGUGGUCGCCGUUUACGGUACGAAAAAACGAGGCUCCUAGAGCGGAAGUGUUUCUCUUCGGGUAGCAAUUUCAAUAGGGAGUAUCACCUUCAUCCAUUCACGGACGAUGCUAAUGUAACAUCACGAUUUGCAUGAGUAAACUUAGGACACCAGCUCUUUGCGGCUUCUCAACCCACGUGUCACGCGGACCGGGCUAUUUCUCUCGUCUCGGGAUAGCGGUCGGAUAUCUUACCACCCUCUAUAAAAUAGCUGCUCUUGCAUUACCAGGUUCAGCGGCAUGAAUGAUUUACCUUGGACGUUCACAUUAACGCUAGUGAGUACGAGUACUUGUAGACUCACAGCUGUUCGCGGACUGAUAACCCAAAGGCCCGCAAUUCGAAUAUUACGACGCUCUCCUCAGUAUCCUAUCCCUGAUCCUGACGCUUGACAUAGACACACCACGGGCUUACCUACCACCGGGCGAAAGGCGUUAUAUCUUUGGAGCGCCUGAGAGAUAGGGUUUGAAGGCGGUAUCAGUACGGUUACUUUGACGAUAACUGGGCGUAGCUAUAGUGCCUGCAAUAUGACGCCACACUAGCCUCAAUUGAUACCGGACCACUUGCCUAUCUAACUGAGGCACGGGAUUUUUCUUAAGGCGCCACUUGUUGAUCAUCGUGCUUUCGUAAUUCGUUUGACACCACUCUACAGCCUAUUUUCCCAAACGCUACCACUACAAGGCCUCGCACACGUCGGGGCACUGACAGGGUUAAGCGGCCGUUCGCAACAAUGAGAUA\n",
      "\n"
     ]
    }
   ],
   "source": [
    "# Downloaded Dataset\n",
    "\n",
    "file = open(\"data/rosalind_rna.txt\", \"r\") \n",
    "for line in file: \n",
    "    print(transcribe_dna(line))"
   ]
  }
 ],
 "metadata": {
  "kernelspec": {
   "display_name": "Python 3",
   "language": "python",
   "name": "python3"
  },
  "language_info": {
   "codemirror_mode": {
    "name": "ipython",
    "version": 3
   },
   "file_extension": ".py",
   "mimetype": "text/x-python",
   "name": "python",
   "nbconvert_exporter": "python",
   "pygments_lexer": "ipython3",
   "version": "3.6.4"
  }
 },
 "nbformat": 4,
 "nbformat_minor": 2
}
