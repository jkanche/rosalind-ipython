{
 "cells": [
  {
   "cell_type": "code",
   "execution_count": 6,
   "metadata": {},
   "outputs": [
    {
     "name": "stdout",
     "output_type": "stream",
     "text": [
      "True\n"
     ]
    }
   ],
   "source": [
    "# Sample Dataset\n",
    "\n",
    "def reverse_strand(dna):\n",
    "    dna = dna[::-1]\n",
    "    for key, val in {\"A\": \"t\", \"G\": \"c\"}.items():\n",
    "        dna = dna.replace(key, val)\n",
    "        dna = dna.replace(val.upper(), key)\n",
    "    return dna.upper()\n",
    "\n",
    "print(reverse_strand(\"AAAACCCGGT\") == \"ACCGGGTTTT\")"
   ]
  },
  {
   "cell_type": "code",
   "execution_count": 7,
   "metadata": {},
   "outputs": [
    {
     "name": "stdout",
     "output_type": "stream",
     "text": [
      "\n",
      "GAGGGCCGCGAGCCGGCCTTGAATTCGACTGAAAGGTCACACATCGAGCATCGGCCCATTATGAGGTGCCCGATAGCTAGGCTAAGGTATGTACCGACAGAAGAAACGATTCACGTACGGTCATGTACAAAGAGTAAACCGCCCTGGGCAGACTTTAACACAAAATCATATTGCTATGCCGGTATATTTTGAAGGCTATGCTGGACCGACAACTGGCATCAGACCGTCGTACCTTTGGGCGTGGGCTTCGCGTAGCTTTCCTACAAAGGAAATTCCTAGGAAGCTTCCGCTACTGTTTATCCTGACGTACGCCGGCGATCCTGGCGACCGCGTGGGGTGATGACGCGCACGTCTGCCCTAAGGCGCCTAATGCATTCTCTTATAGTGGCGATGTGATGGTCTTCTCACTGATCATTTGCAGCCTTACAGTCTACTGCTATAGGATTCAAGGGTTTTTACTGTGGCTCGGGAGCACAGTATCCCTAGTGCACTAGTTAGAGAGTAATTACATCTCTTTGCCATTGGATGCACAGCCATTCCCCGCATGCATGAGGCAGTCGGGAAGCTTCCCTAGCCATTATAGTTTGGCCGACATCTCGCGGGGAGTGTGTGTAGAGAGATACTACTTTAAAGAGCTGATTACTTCGTGCAGCAGCCCGTTCTGTGAGTCGTCCGAAATGGTGTCCTTTCGAGCACGTTGCAGCATGCGCGCTGGACACCTACGAATCCACTGGCGCATTTTCAAACAATCGAATAAACCAGAATGGTATTAGAAATTGTTCGCTGTTAGCACCCATAGAGACT\n"
     ]
    }
   ],
   "source": [
    "# Downloaded Dataset\n",
    "\n",
    "file = open(\"data/rosalind_revc.txt\", \"r\") \n",
    "for line in file: \n",
    "    print(reverse_strand(line))"
   ]
  }
 ],
 "metadata": {
  "kernelspec": {
   "display_name": "Python 3",
   "language": "python",
   "name": "python3"
  },
  "language_info": {
   "codemirror_mode": {
    "name": "ipython",
    "version": 3
   },
   "file_extension": ".py",
   "mimetype": "text/x-python",
   "name": "python",
   "nbconvert_exporter": "python",
   "pygments_lexer": "ipython3",
   "version": "3.6.4"
  }
 },
 "nbformat": 4,
 "nbformat_minor": 2
}
