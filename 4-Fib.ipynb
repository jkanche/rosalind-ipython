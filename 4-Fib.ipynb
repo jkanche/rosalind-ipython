{
 "cells": [
  {
   "cell_type": "code",
   "execution_count": 24,
   "metadata": {},
   "outputs": [
    {
     "data": {
      "text/plain": [
       "22906492245"
      ]
     },
     "execution_count": 24,
     "metadata": {},
     "output_type": "execute_result"
    }
   ],
   "source": [
    "# Sample Dataset\n",
    "\n",
    "n = 5\n",
    "k = 3\n",
    "\n",
    "def dp(n, k):\n",
    "    if(n == 0):\n",
    "        return 0;\n",
    "    elif( n == 1):\n",
    "        return 1;\n",
    "    else:\n",
    "        return dp(n-1, k) + k*dp(n-2, k)\n",
    "    \n",
    "dp(5,3)"
   ]
  },
  {
   "cell_type": "code",
   "execution_count": 25,
   "metadata": {},
   "outputs": [
    {
     "name": "stdout",
     "output_type": "stream",
     "text": [
      "36 2\n",
      "\n",
      "['36', '2\\n']\n",
      "22906492245\n"
     ]
    }
   ],
   "source": [
    "# Downloaded Dataset\n",
    "\n",
    "file = open(\"data/rosalind_fib.txt\", \"r\") \n",
    "for line in file: \n",
    "    n,k = line.split(\" \")\n",
    "    print(dp(int(n),int(k)))"
   ]
  }
 ],
 "metadata": {
  "kernelspec": {
   "display_name": "Python 3",
   "language": "python",
   "name": "python3"
  },
  "language_info": {
   "codemirror_mode": {
    "name": "ipython",
    "version": 3
   },
   "file_extension": ".py",
   "mimetype": "text/x-python",
   "name": "python",
   "nbconvert_exporter": "python",
   "pygments_lexer": "ipython3",
   "version": "3.6.4"
  }
 },
 "nbformat": 4,
 "nbformat_minor": 2
}
