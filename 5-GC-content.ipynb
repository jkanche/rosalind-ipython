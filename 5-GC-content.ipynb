{
 "cells": [
  {
   "cell_type": "code",
   "execution_count": 17,
   "metadata": {},
   "outputs": [
    {
     "data": {
      "text/plain": [
       "60.91954"
      ]
     },
     "execution_count": 17,
     "metadata": {},
     "output_type": "execute_result"
    }
   ],
   "source": [
    "import io\n",
    "\n",
    "fasta = \"\"\"\n",
    "    >Rosalind_6404\n",
    "    CCTGCGGAAGATCGGCACTAGAATAGCCAGAACCGTTTCTCTGAGGCTTCCGGCCTTCCC\n",
    "    TCCCACTAATAATTCTGAGG\n",
    "    >Rosalind_5959\n",
    "    CCATCGGTAGCGCATCCTTAGTCCAATTAAGTCCCTATCCAGGCGCTCCGCCGAAGGTCT\n",
    "    ATATCCATTTGTCAGCAGACACGC\n",
    "    >Rosalind_0808\n",
    "    CCACCCTCGTGGTATGGCTAGGCATTCAGGAACCGGAGAACGCTTCAGACCAGCCCGGAC\n",
    "    TGGGAACCTGCGGGCAGTAGGTGGAAT\n",
    "    \"\"\"\n",
    "\n",
    "def calc_gc(dna):\n",
    "    return((dna.count(\"C\") + dna.count(\"G\")) * 100 / len(dna))\n",
    "\n",
    "def fasta_parser(file):\n",
    "    file = open(file, \"r\") \n",
    "    dna = \"\"\n",
    "    label = \"\"\n",
    "    for line in file: \n",
    "        if (\">\" in line):\n",
    "            if(dna):\n",
    "                gc = calc_gc(dna)\n",
    "                print(\"%s %.6f%%\" % (label.strip().lstrip(\">\"), gc))\n",
    "            dna = \"\"\n",
    "            label = line\n",
    "        else:\n",
    "            dna += line.strip()\n",
    "    if(dna):\n",
    "        gc = calc_gc(dna)\n",
    "        print(\"%s %.6f%%\" % (label.strip().lstrip(\">\"), gc))\n",
    "\n",
    "round(calc_gc(\"CCACCCTCGTGGTATGGCTAGGCATTCAGGAACCGGAGAACGCTTCAGACCAGCCCGGACTGGGAACCTGCGGGCAGTAGGTGGAAT\"), 6)"
   ]
  },
  {
   "cell_type": "code",
   "execution_count": 18,
   "metadata": {},
   "outputs": [
    {
     "name": "stdout",
     "output_type": "stream",
     "text": [
      "Rosalind_7437 51.536643%\n",
      "Rosalind_0137 47.946860%\n",
      "Rosalind_7955 50.916936%\n",
      "Rosalind_0384 50.000000%\n",
      "Rosalind_6300 48.780488%\n",
      "Rosalind_1695 49.139785%\n",
      "Rosalind_0678 48.711656%\n"
     ]
    }
   ],
   "source": [
    "fasta_parser(\"data/rosalind_gc.txt\")"
   ]
  },
  {
   "cell_type": "code",
   "execution_count": null,
   "metadata": {},
   "outputs": [],
   "source": []
  }
 ],
 "metadata": {
  "kernelspec": {
   "display_name": "Python 3",
   "language": "python",
   "name": "python3"
  },
  "language_info": {
   "codemirror_mode": {
    "name": "ipython",
    "version": 3
   },
   "file_extension": ".py",
   "mimetype": "text/x-python",
   "name": "python",
   "nbconvert_exporter": "python",
   "pygments_lexer": "ipython3",
   "version": "3.6.4"
  }
 },
 "nbformat": 4,
 "nbformat_minor": 2
}
