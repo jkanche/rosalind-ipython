{
 "cells": [
  {
   "cell_type": "code",
   "execution_count": null,
   "metadata": {},
   "outputs": [],
   "source": [
    "# Sample Dataset\n",
    "\n",
    "s = \"GAGCCTACTAACGGGAT\"\n",
    "t = \"CATCGTAATGACGGCCT\"\n",
    "\n",
    "def hamming_dist(s, t):\n",
    "    value = 0\n",
    "    for a, b in zip(s, t):\n",
    "        if a != b: value += 1\n",
    "    return value\n",
    "    \n",
    "hamming_dist(s, t)"
   ]
  },
  {
   "cell_type": "code",
   "execution_count": null,
   "metadata": {},
   "outputs": [],
   "source": [
    "# Downloaded Dataset\n",
    "\n",
    "file = open(\"data/rosalind_hamm.txt\", \"r\") \n",
    "dna = []\n",
    "for line in file: \n",
    "    dna.append(line)\n",
    "    \n",
    "hamming_dist(dna[0], dna[1])"
   ]
  }
 ],
 "metadata": {
  "kernelspec": {
   "display_name": "Python 3",
   "language": "python",
   "name": "python3"
  },
  "language_info": {
   "codemirror_mode": {
    "name": "ipython",
    "version": 3
   },
   "file_extension": ".py",
   "mimetype": "text/x-python",
   "name": "python",
   "nbconvert_exporter": "python",
   "pygments_lexer": "ipython3",
   "version": "3.6.4"
  }
 },
 "nbformat": 4,
 "nbformat_minor": 2
}
