{
 "cells": [
  {
   "cell_type": "code",
   "execution_count": 4,
   "metadata": {},
   "outputs": [
    {
     "data": {
      "text/plain": [
       "0.7833333333333333"
      ]
     },
     "execution_count": 4,
     "metadata": {},
     "output_type": "execute_result"
    }
   ],
   "source": [
    "# Sample Dataset\n",
    "\n",
    "k = 2\n",
    "m = 2\n",
    "n = 2\n",
    "\n",
    "def calc_prob(k, m, n):\n",
    "    k += 0.0\n",
    "    m += 0.0\n",
    "    n += 0.0\n",
    "    \n",
    "    total = k + m + n + 0.0\n",
    "    \n",
    "    ## calculate 1 - all possible cases where dominant allele\n",
    "    # will be produced\n",
    "    \n",
    "    n_prob = (n / total) * ((n-1) / (total - 1))\n",
    "    \n",
    "    ## \n",
    "    # 1/4 of heterozygous  will be recessive (Punnett square - wikipedia)\n",
    "    ##\n",
    "    m_prob = (m / total) * ((m-1) / (total - 1)) * 1/4\n",
    "    \n",
    "    ## \n",
    "    # 1/2 of heterozygous & homozygous recessive will be recessive (Punnett square - wikipedia)\n",
    "    ##\n",
    "    mn_prob = (((m / total) * (n / (total-1))) + ((n / total) * (m / (total -1)))) * 1/2\n",
    "    \n",
    "    return 1 - (n_prob + m_prob + mn_prob )\n",
    "    \n",
    "    \n",
    "calc_prob(k, m, n)"
   ]
  },
  {
   "cell_type": "code",
   "execution_count": 13,
   "metadata": {},
   "outputs": [
    {
     "data": {
      "text/plain": [
       "0.771981981981982"
      ]
     },
     "execution_count": 13,
     "metadata": {},
     "output_type": "execute_result"
    }
   ],
   "source": [
    "# Downloaded Dataset\n",
    "\n",
    "file = open(\"data/rosalind_iprb.txt\", \"r\") \n",
    "dna = []\n",
    "for line in file: \n",
    "    dna.append(line)\n",
    "    \n",
    "k,m,n = dna[0].split(\" \")\n",
    "\n",
    "calc_prob(float(k), float(m), float(n))\n",
    "\n",
    "\n"
   ]
  },
  {
   "cell_type": "code",
   "execution_count": null,
   "metadata": {},
   "outputs": [],
   "source": []
  }
 ],
 "metadata": {
  "kernelspec": {
   "display_name": "Python 3",
   "language": "python",
   "name": "python3"
  },
  "language_info": {
   "codemirror_mode": {
    "name": "ipython",
    "version": 3
   },
   "file_extension": ".py",
   "mimetype": "text/x-python",
   "name": "python",
   "nbconvert_exporter": "python",
   "pygments_lexer": "ipython3",
   "version": "3.6.4"
  }
 },
 "nbformat": 4,
 "nbformat_minor": 2
}
